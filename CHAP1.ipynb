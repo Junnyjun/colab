{
  "nbformat": 4,
  "nbformat_minor": 0,
  "metadata": {
    "colab": {
      "provenance": [],
      "toc_visible": true,
      "gpuType": "T4",
      "authorship_tag": "ABX9TyMgNaKNA8QbSBKZ+divzXdb",
      "include_colab_link": true
    },
    "kernelspec": {
      "name": "python3",
      "display_name": "Python 3"
    },
    "language_info": {
      "name": "python"
    },
    "accelerator": "GPU"
  },
  "cells": [
    {
      "cell_type": "markdown",
      "metadata": {
        "id": "view-in-github",
        "colab_type": "text"
      },
      "source": [
        "<a href=\"https://colab.research.google.com/github/Junnyjun/colab/blob/main/CHAP1.ipynb\" target=\"_parent\"><img src=\"https://colab.research.google.com/assets/colab-badge.svg\" alt=\"Open In Colab\"/></a>"
      ]
    },
    {
      "cell_type": "markdown",
      "source": [
        "# CHAP 1"
      ],
      "metadata": {
        "id": "DfZ1aFQ8U61D"
      }
    },
    {
      "cell_type": "code",
      "source": [],
      "metadata": {
        "id": "BjrwGj3GVGYf"
      },
      "execution_count": null,
      "outputs": []
    }
  ]
}